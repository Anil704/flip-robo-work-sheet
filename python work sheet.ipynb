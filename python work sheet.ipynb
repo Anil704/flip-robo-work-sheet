{
 "cells": [
  {
   "cell_type": "code",
   "execution_count": null,
   "metadata": {},
   "outputs": [],
   "source": [
    "1-c\n",
    "2-d\n",
    "3-a\n",
    "4-a\n",
    "5-c\n",
    "6-a\n",
    "7-a\n",
    "8-c\n",
    "9-a\n",
    "10-a,b\n",
    "11-factorial = 1\n",
    "elif number ==0:\n",
    "    else:\n",
    "        if num<0:\n",
    "            for i in range:\n",
    "12-if num>1:\n",
    "    for i in range:\n",
    "        else:\n",
    "            break:\n",
    "13-if else statement\n",
    "string methods\n",
    "while loop\n",
    "14- i dont answer\n",
    "15-naive method\n",
    "using collection.counter()\n",
    "using dict.get()\n",
    "using set count()"
   ]
  }
 ],
 "metadata": {
  "kernelspec": {
   "display_name": "Python 3",
   "language": "python",
   "name": "python3"
  },
  "language_info": {
   "codemirror_mode": {
    "name": "ipython",
    "version": 3
   },
   "file_extension": ".py",
   "mimetype": "text/x-python",
   "name": "python",
   "nbconvert_exporter": "python",
   "pygments_lexer": "ipython3",
   "version": "3.8.5"
  }
 },
 "nbformat": 4,
 "nbformat_minor": 4
}
