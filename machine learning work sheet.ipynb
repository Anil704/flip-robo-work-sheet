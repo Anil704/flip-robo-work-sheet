{
 "cells": [
  {
   "cell_type": "code",
   "execution_count": 2,
   "metadata": {},
   "outputs": [
    {
     "ename": "SyntaxError",
     "evalue": "invalid syntax (<ipython-input-2-e35aac6efa83>, line 12)",
     "output_type": "error",
     "traceback": [
      "\u001b[1;36m  File \u001b[1;32m\"<ipython-input-2-e35aac6efa83>\"\u001b[1;36m, line \u001b[1;32m12\u001b[0m\n\u001b[1;33m    Q12-NO USE FEATURES LINEAR REGRESSION\u001b[0m\n\u001b[1;37m           ^\u001b[0m\n\u001b[1;31mSyntaxError\u001b[0m\u001b[1;31m:\u001b[0m invalid syntax\n"
     ]
    }
   ],
   "source": [
    "Q1-C\n",
    "Q2-C\n",
    "Q3-D\n",
    "Q4-A\n",
    "Q5-B\n",
    "Q6-B\n",
    "Q7-D\n",
    "Q8-A\n",
    "Q9-A,D\n",
    "Q10-C,D\n",
    "Q11-D\n",
    "Q12-NO USE FEATURES LINEAR REGRESSION\n",
    "Q13-NOT UNDERSTAND\n"
   ]
  },
  {
   "cell_type": "code",
   "execution_count": null,
   "metadata": {},
   "outputs": [],
   "source": []
  },
  {
   "cell_type": "code",
   "execution_count": null,
   "metadata": {},
   "outputs": [],
   "source": []
  }
 ],
 "metadata": {
  "kernelspec": {
   "display_name": "Python 3",
   "language": "python",
   "name": "python3"
  },
  "language_info": {
   "codemirror_mode": {
    "name": "ipython",
    "version": 3
   },
   "file_extension": ".py",
   "mimetype": "text/x-python",
   "name": "python",
   "nbconvert_exporter": "python",
   "pygments_lexer": "ipython3",
   "version": "3.8.5"
  }
 },
 "nbformat": 4,
 "nbformat_minor": 4
}
