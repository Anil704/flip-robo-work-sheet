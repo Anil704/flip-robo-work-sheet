{
 "cells": [
  {
   "cell_type": "code",
   "execution_count": null,
   "metadata": {},
   "outputs": [],
   "source": [
    "1-a\n",
    "2-a\n",
    "3-b\n",
    "4-a\n",
    "5-c\n",
    "6-a\n",
    "7-b\n",
    "8-a\n",
    "9-a\n",
    "10- normal distribution\n",
    "mean mode median are equal\n",
    "11-knn imputers\n",
    "ilerative imputers\n",
    "12-two samples hypothesis testing filed of statics\n",
    "13-true, imputing the mean of observe data\n",
    "14-the case of one indepdent variable or depdent variable simple linear regression\n",
    "15-descriptive statistics\n",
    "inferential statistics"
   ]
  }
 ],
 "metadata": {
  "kernelspec": {
   "display_name": "Python 3",
   "language": "python",
   "name": "python3"
  },
  "language_info": {
   "codemirror_mode": {
    "name": "ipython",
    "version": 3
   },
   "file_extension": ".py",
   "mimetype": "text/x-python",
   "name": "python",
   "nbconvert_exporter": "python",
   "pygments_lexer": "ipython3",
   "version": "3.8.5"
  }
 },
 "nbformat": 4,
 "nbformat_minor": 4
}
